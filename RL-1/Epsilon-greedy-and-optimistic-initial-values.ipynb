{
 "cells": [
  {
   "cell_type": "markdown",
   "metadata": {},
   "source": [
    "# Introduction to Reinforcement Learning through Epsilon Greedy Algorithm"
   ]
  },
  {
   "cell_type": "markdown",
   "metadata": {},
   "source": [
    "Reference article for the following explanation : https://medium.com/analytics-vidhya/the-epsilon-greedy-algorithm-for-reinforcement-learning-5fe6f96dc870"
   ]
  },
  {
   "cell_type": "markdown",
   "metadata": {},
   "source": [
    "## What is Reinforcement Learning ? "
   ]
  },
  {
   "cell_type": "markdown",
   "metadata": {},
   "source": [
    "Reinforcement learning is a subtype of artificial intelligence which is based on the idea that a computer learn as humans do — through trial and error. It aims for computers to learn and improve from experience rather than being explicitly instructed.\n",
    "\n",
    "But, how does the computer know to do this?\n",
    "\n",
    "Well, by using a learning algorithm.\n",
    "\n",
    "Learning algorithms are mathematical tools implemented by the programmer which allow the agent to effectively conduct trial and error when performing a task. Learning algorithms interpret the rewards and punishments returned to the agent from the environment and use the feedback to improve the agent’s choices for the future."
   ]
  },
  {
   "cell_type": "markdown",
   "metadata": {},
   "source": [
    "## Multi-armed Bandit Problem and exploration-exploitation tradeoff "
   ]
  },
  {
   "attachments": {},
   "cell_type": "markdown",
   "metadata": {},
   "source": [
    "<img src=\"images/RL-1.png\">"
   ]
  },
  {
   "cell_type": "markdown",
   "metadata": {},
   "source": [
    "Let’s say that you and your friends are trying to decide where to eat. In the past, you’ve always gone to a Mexican restaurant around the corner, and you’ve all really enjoyed it. However, this time, one of your friends mentions that a new Lebanese place has opened up down the street, and it’s supposed to be really good. None of you guys can come to a consensus — should you go to the Mexican restaurant which you know to be really good, or should you try the Lebanese place which has the potential to be better or worse?"
   ]
  },
  {
   "cell_type": "markdown",
   "metadata": {},
   "source": [
    "In reinforcement learning, our restaurant choosing dilemma is known as the exploration-exploitation tradeoff. At what point should you exploit options which you think to be the best rather than exploring options which have the potential to be better or worse (or vice-versa)?\n",
    "\n",
    "This tradeoff plays into something known as the multi-armed bandit problem."
   ]
  },
  {
   "attachments": {},
   "cell_type": "markdown",
   "metadata": {},
   "source": [
    "!<img src=\"images/RL-2.png\">"
   ]
  },
  {
   "cell_type": "markdown",
   "metadata": {},
   "source": [
    "The Epsilon-Greedy Algorithm makes use of the exploration-exploitation tradeoff by\n",
    "\n",
    "1. instructing the computer to explore (i.e. choose a random option with probability epsilon)\n",
    "\n",
    "2. and exploit (i.e. choose the option which so far seems to be the best) the remainder of the time."
   ]
  },
  {
   "cell_type": "markdown",
   "metadata": {},
   "source": [
    "# Epilson-Greedy code "
   ]
  },
  {
   "cell_type": "code",
   "execution_count": 1,
   "metadata": {
    "ExecuteTime": {
     "end_time": "2020-05-25T21:33:17.746199Z",
     "start_time": "2020-05-25T21:33:17.531134Z"
    }
   },
   "outputs": [],
   "source": [
    "import matplotlib.pyplot as plt\n",
    "import numpy as np"
   ]
  },
  {
   "cell_type": "code",
   "execution_count": 2,
   "metadata": {
    "ExecuteTime": {
     "end_time": "2020-05-25T21:33:24.664495Z",
     "start_time": "2020-05-25T21:33:24.660492Z"
    }
   },
   "outputs": [],
   "source": [
    "NUM_TRIALS = 10000\n",
    "EPS = 0.1\n",
    "BANDIT_PROBABILITIES = [0.2, 0.5, 0.75]"
   ]
  },
  {
   "cell_type": "code",
   "execution_count": 5,
   "metadata": {
    "ExecuteTime": {
     "end_time": "2020-05-25T21:34:57.681289Z",
     "start_time": "2020-05-25T21:34:57.676288Z"
    }
   },
   "outputs": [],
   "source": [
    "class Bandit:\n",
    "    def __init__(self, p):\n",
    "        # p: the win rate\n",
    "        self.p = p\n",
    "        self.p_estimate = 0.\n",
    "        self.N = 0. # num samples collected so far\n",
    "\n",
    "    def pull(self):\n",
    "        # draw a 1 with probability p\n",
    "        return np.random.random() < self.p\n",
    "\n",
    "    def update(self, x):\n",
    "        self.N += 1.\n",
    "        self.p_estimate = ((self.N - 1)*self.p_estimate + x) / self.N"
   ]
  },
  {
   "cell_type": "code",
   "execution_count": 8,
   "metadata": {
    "ExecuteTime": {
     "end_time": "2020-05-25T21:37:50.287399Z",
     "start_time": "2020-05-25T21:37:50.276397Z"
    }
   },
   "outputs": [],
   "source": [
    "def experiment():\n",
    "    bandits = [Bandit(p) for p in BANDIT_PROBABILITIES]\n",
    "\n",
    "    rewards = np.zeros(NUM_TRIALS)\n",
    "    num_times_explored = 0\n",
    "    num_times_exploited = 0\n",
    "    num_optimal = 0\n",
    "    optimal_j = np.argmax([b.p for b in bandits])\n",
    "    print(\"optimal j:\", optimal_j)\n",
    "\n",
    "    for i in range(NUM_TRIALS):\n",
    "\n",
    "        # use epsilon-greedy to select the next bandit\n",
    "        if np.random.random() < EPS:\n",
    "            num_times_explored += 1\n",
    "            j = np.random.randint(len(bandits))\n",
    "        else:\n",
    "            num_times_exploited += 1\n",
    "            j = np.argmax([b.p_estimate for b in bandits])\n",
    "\n",
    "        if j == optimal_j:\n",
    "            num_optimal += 1\n",
    "\n",
    "        # pull the arm for the bandit with the largest sample\n",
    "        x = bandits[j].pull()\n",
    "\n",
    "        # update rewards log\n",
    "        rewards[i] = x\n",
    "\n",
    "        # update the distribution for the bandit whose arm we just pulled\n",
    "        bandits[j].update(x)\n",
    "\n",
    "\n",
    "\n",
    "    # print mean estimates for each bandit\n",
    "    for b in bandits:\n",
    "        print(\"mean estimate:\", b.p_estimate)\n",
    "\n",
    "    # print total reward\n",
    "    print(\"total reward earned:\", rewards.sum())\n",
    "    print(\"overall win rate:\", rewards.sum() / NUM_TRIALS)\n",
    "    print(\"num_times_explored:\", num_times_explored)\n",
    "    print(\"num_times_exploited:\", num_times_exploited)\n",
    "    print(\"num times selected optimal bandit:\", num_optimal)\n",
    "\n",
    "    # plot the results\n",
    "    cumulative_rewards = np.cumsum(rewards)\n",
    "    win_rates = cumulative_rewards / (np.arange(NUM_TRIALS) + 1)\n",
    "    plt.plot(win_rates)\n",
    "    plt.plot(np.ones(NUM_TRIALS)*np.max(BANDIT_PROBABILITIES))\n",
    "    plt.show()"
   ]
  },
  {
   "cell_type": "code",
   "execution_count": 9,
   "metadata": {
    "ExecuteTime": {
     "end_time": "2020-05-25T21:37:57.665301Z",
     "start_time": "2020-05-25T21:37:57.419304Z"
    }
   },
   "outputs": [
    {
     "name": "stdout",
     "output_type": "stream",
     "text": [
      "optimal j: 2\n",
      "mean estimate: 0.1455026455026455\n",
      "mean estimate: 0.48059701492537316\n",
      "mean estimate: 0.7492193388607725\n",
      "total reward earned: 7174.0\n",
      "overall win rate: 0.7174\n",
      "num_times_explored: 1006\n",
      "num_times_exploited: 8994\n",
      "num times selected optimal bandit: 9287\n"
     ]
    },
    {
     "data": {
      "image/png": "[encoded data removed]",
      "text/plain": [
       "<Figure size 432x288 with 1 Axes>"
      ]
     },
     "metadata": {
      "needs_background": "light"
     },
     "output_type": "display_data"
    }
   ],
   "source": [
    "experiment()"
   ]
  },
  {
   "cell_type": "markdown",
   "metadata": {},
   "source": [
    "# Comparison of different values of epsilons "
   ]
  },
  {
   "cell_type": "code",
   "execution_count": 10,
   "metadata": {
    "ExecuteTime": {
     "end_time": "2020-05-25T21:46:33.581737Z",
     "start_time": "2020-05-25T21:46:33.576732Z"
    }
   },
   "outputs": [],
   "source": [
    "class Bandit:\n",
    "    def __init__(self, m):\n",
    "        self.m = m\n",
    "        self.mean = 0\n",
    "        self.N = 0\n",
    "\n",
    "    def pull(self):\n",
    "        return np.random.randn() + self.m\n",
    "\n",
    "    def update(self, x):\n",
    "        self.N += 1\n",
    "        self.mean = (1 - 1.0/self.N)*self.mean + 1.0/self.N*x"
   ]
  },
  {
   "cell_type": "code",
   "execution_count": 13,
   "metadata": {
    "ExecuteTime": {
     "end_time": "2020-05-25T21:51:53.629929Z",
     "start_time": "2020-05-25T21:51:53.621932Z"
    }
   },
   "outputs": [],
   "source": [
    "def run_experiment(m1, m2, m3, eps, N):\n",
    "    bandits = [Bandit(m1), Bandit(m2), Bandit(m3)]\n",
    "\n",
    "    data = np.empty(N)\n",
    "\n",
    "    for i in range(N):\n",
    "        # epsilon greedy\n",
    "        p = np.random.random()\n",
    "        if p < eps:\n",
    "            j = np.random.choice(3)\n",
    "        else:\n",
    "            j = np.argmax([b.mean for b in bandits])\n",
    "        x = bandits[j].pull()\n",
    "        bandits[j].update(x)\n",
    "\n",
    "        # for the plot\n",
    "        data[i] = x\n",
    "    cumulative_average = np.cumsum(data) / (np.arange(N) + 1)\n",
    "\n",
    "    # plot moving average ctr\n",
    "    plt.plot(cumulative_average)\n",
    "    plt.plot(np.ones(N)*m1)\n",
    "    plt.plot(np.ones(N)*m2)\n",
    "    plt.plot(np.ones(N)*m3)\n",
    "    plt.xscale('log')\n",
    "    plt.show()\n",
    "\n",
    "    for b in bandits:\n",
    "        print(b.mean)\n",
    "\n",
    "    return cumulative_average"
   ]
  },
  {
   "cell_type": "markdown",
   "metadata": {},
   "source": [
    "## Epsilon = 0.1 "
   ]
  },
  {
   "cell_type": "code",
   "execution_count": 17,
   "metadata": {
    "ExecuteTime": {
     "end_time": "2020-05-25T21:56:53.352374Z",
     "start_time": "2020-05-25T21:56:52.037384Z"
    }
   },
   "outputs": [
    {
     "data": {
      "image/png": "[encoded data removed]",
      "text/plain": [
       "<Figure size 432x288 with 1 Axes>"
      ]
     },
     "metadata": {
      "needs_background": "light"
     },
     "output_type": "display_data"
    },
    {
     "name": "stdout",
     "output_type": "stream",
     "text": [
      "1.0124058921269363\n",
      "2.003177324284297\n",
      "2.999578216730318\n"
     ]
    }
   ],
   "source": [
    "c_1 = run_experiment(1.0, 2.0, 3.0, 0.1, 100000)"
   ]
  },
  {
   "cell_type": "markdown",
   "metadata": {},
   "source": [
    "## Epsilon = 0.05"
   ]
  },
  {
   "cell_type": "code",
   "execution_count": 16,
   "metadata": {
    "ExecuteTime": {
     "end_time": "2020-05-25T21:54:44.821315Z",
     "start_time": "2020-05-25T21:54:43.596285Z"
    }
   },
   "outputs": [
    {
     "data": {
      "image/png": "[encoded data removed]",
      "text/plain": [
       "<Figure size 432x288 with 1 Axes>"
      ]
     },
     "metadata": {
      "needs_background": "light"
     },
     "output_type": "display_data"
    },
    {
     "name": "stdout",
     "output_type": "stream",
     "text": [
      "1.033887326742669\n",
      "1.9751552784268689\n",
      "2.993718017322371\n"
     ]
    }
   ],
   "source": [
    "c_05 = run_experiment(1.0, 2.0, 3.0, 0.05, 100000)"
   ]
  },
  {
   "cell_type": "markdown",
   "metadata": {},
   "source": [
    "## Epsilon = 0.01"
   ]
  },
  {
   "cell_type": "code",
   "execution_count": 18,
   "metadata": {
    "ExecuteTime": {
     "end_time": "2020-05-25T21:58:20.059233Z",
     "start_time": "2020-05-25T21:58:18.892270Z"
    }
   },
   "outputs": [
    {
     "data": {
      "image/png": "[encoded data removed]",
      "text/plain": [
       "<Figure size 432x288 with 1 Axes>"
      ]
     },
     "metadata": {
      "needs_background": "light"
     },
     "output_type": "display_data"
    },
    {
     "name": "stdout",
     "output_type": "stream",
     "text": [
      "0.9718706905185743\n",
      "1.9488388580628544\n",
      "3.0037274647513756\n"
     ]
    }
   ],
   "source": [
    "c_01 = run_experiment(1.0, 2.0, 3.0, 0.01, 100000)"
   ]
  },
  {
   "cell_type": "markdown",
   "metadata": {},
   "source": [
    "## Comparison chart"
   ]
  },
  {
   "cell_type": "code",
   "execution_count": 20,
   "metadata": {
    "ExecuteTime": {
     "end_time": "2020-05-25T21:59:51.778444Z",
     "start_time": "2020-05-25T21:59:51.003412Z"
    }
   },
   "outputs": [
    {
     "name": "stderr",
     "output_type": "stream",
     "text": [
      "E:\\Programs\\Anaconda\\lib\\site-packages\\IPython\\core\\pylabtools.py:132: UserWarning: Creating legend with loc=\"best\" can be slow with large amounts of data.\n",
      "  fig.canvas.print_figure(bytes_io, **kw)\n"
     ]
    },
    {
     "data": {
      "image/png": "[encoded data removed]",
      "text/plain": [
       "<Figure size 432x288 with 1 Axes>"
      ]
     },
     "metadata": {
      "needs_background": "light"
     },
     "output_type": "display_data"
    }
   ],
   "source": [
    "# log scale plot\n",
    "plt.plot(c_1, label='eps = 0.1')\n",
    "plt.plot(c_05, label='eps = 0.05')\n",
    "plt.plot(c_01, label='eps = 0.01')\n",
    "plt.legend()\n",
    "plt.xscale('log')\n",
    "plt.show()"
   ]
  },
  {
   "cell_type": "markdown",
   "metadata": {},
   "source": [
    "The algorithm reaches higher cumulative rewards faster for eps = 0.05 and eps = 0.1 as compared to eps = 0.01. \n",
    "\n",
    "However, eventually eps = 0.01 has the highest cumulative reward in the end.\n",
    "\n",
    "So , this is the speed-reward tradeoff for different epsilon values. If we want faster convergence at the cost of a potentially better solution , opt for relatviely higher values of epsilon(0.05,0.1) else opt for the lower one (0.01) for better solution."
   ]
  },
  {
   "cell_type": "markdown",
   "metadata": {},
   "source": [
    "# Optimistic Initial values"
   ]
  },
  {
   "cell_type": "markdown",
   "metadata": {},
   "source": [
    "Purely greedy approach\n",
    "\n",
    "Instead of having epsilon parameter, we set an initial value of reward mean which is higher than the maximum mean of all the machines. Hence, a large value of mean is picked which overestimates the sample mean.\n",
    "\n",
    "This encourages the algorithm to explore more in the initial stages\n",
    "\n",
    "Steps:\n",
    "\n",
    "Be greedy.\n",
    "\n",
    "Choose the bandit arm with the largest estimated mean.\n",
    "\n",
    "Early in the experiment :\n",
    "\n",
    "Less data\n",
    "\n",
    "Estimated mean is large.\n",
    "\n",
    "Later in the experiment :\n",
    "\n",
    "Lots of data collected. Estimated mean continues to get smaller and the effect of initial value of mean diasppears.\n",
    "\n",
    "http://incompleteideas.net/book/first/ebook/node21.html - More reading."
   ]
  },
  {
   "cell_type": "markdown",
   "metadata": {},
   "source": [
    "## Role of initial value"
   ]
  },
  {
   "cell_type": "markdown",
   "metadata": {
    "ExecuteTime": {
     "end_time": "2020-05-25T22:41:00.197422Z",
     "start_time": "2020-05-25T22:41:00.191462Z"
    }
   },
   "source": [
    "Extemely high = More exploration\n",
    "\n",
    "Less high = less exploration\n",
    "\n",
    "Hyperparameter that controls the value of exploration."
   ]
  },
  {
   "cell_type": "markdown",
   "metadata": {},
   "source": [
    "## Code"
   ]
  },
  {
   "cell_type": "code",
   "execution_count": 22,
   "metadata": {
    "ExecuteTime": {
     "end_time": "2020-05-25T23:00:50.911235Z",
     "start_time": "2020-05-25T23:00:50.900234Z"
    }
   },
   "outputs": [],
   "source": [
    "class Bandit:\n",
    "    def __init__(self, m, upper_limit):\n",
    "        self.m = m\n",
    "        self.mean = upper_limit\n",
    "        self.N = 1\n",
    "\n",
    "    def pull(self):\n",
    "        return np.random.randn() + self.m\n",
    "\n",
    "    def update(self, x):\n",
    "        self.N += 1\n",
    "        self.mean = (1 - 1.0/self.N)*self.mean + 1.0/self.N*x\n",
    "\n",
    "\n",
    "def run_experiment(m1, m2, m3, N, upper_limit=10):\n",
    "    bandits = [Bandit(m1, upper_limit), Bandit(m2, upper_limit), Bandit(m3, upper_limit)]\n",
    "\n",
    "    data = np.empty(N)\n",
    "  \n",
    "    for i in range(N):\n",
    "        # optimistic initial values\n",
    "        j = np.argmax([b.mean for b in bandits])\n",
    "        x = bandits[j].pull()\n",
    "        bandits[j].update(x)\n",
    "\n",
    "        # for the plot\n",
    "        data[i] = x\n",
    "    cumulative_average = np.cumsum(data) / (np.arange(N) + 1)\n",
    "\n",
    "    # plot moving average ctr\n",
    "    plt.plot(cumulative_average)\n",
    "    plt.plot(np.ones(N)*m1)\n",
    "    plt.plot(np.ones(N)*m2)\n",
    "    plt.plot(np.ones(N)*m3)\n",
    "    plt.xscale('log')\n",
    "    plt.show()\n",
    "\n",
    "    for b in bandits:\n",
    "        print(b.mean)\n",
    "\n",
    "    return cumulative_average"
   ]
  },
  {
   "cell_type": "code",
   "execution_count": 25,
   "metadata": {
    "ExecuteTime": {
     "end_time": "2020-05-25T23:02:24.240320Z",
     "start_time": "2020-05-25T23:02:22.484488Z"
    }
   },
   "outputs": [
    {
     "data": {
      "image/png": "[encoded data removed]",
      "text/plain": [
       "<Figure size 432x288 with 1 Axes>"
      ]
     },
     "metadata": {
      "needs_background": "light"
     },
     "output_type": "display_data"
    },
    {
     "name": "stdout",
     "output_type": "stream",
     "text": [
      "2.9222500019446707\n",
      "2.9346493734203034\n",
      "3.001068225834615\n"
     ]
    },
    {
     "data": {
      "image/png": "[encoded data removed]",
      "text/plain": [
       "<Figure size 432x288 with 1 Axes>"
      ]
     },
     "metadata": {
      "needs_background": "light"
     },
     "output_type": "display_data"
    }
   ],
   "source": [
    "oiv = run_experiment(1.0, 2.0, 3.0, 100000)\n",
    "\n",
    "# log scale plot\n",
    "plt.plot(c_1, label='eps = 0.1')\n",
    "plt.plot(oiv, label='optimistic')\n",
    "plt.legend()\n",
    "plt.xscale('log')\n",
    "plt.show()"
   ]
  },
  {
   "cell_type": "markdown",
   "metadata": {},
   "source": [
    "As evident in the above diagram, initially, the optimistic method performs worse because it explores more, but eventually it performs better because its exploration decreases with time."
   ]
  }
 ],
 "metadata": {
  "hide_input": false,
  "kernelspec": {
   "display_name": "Python 3",
   "language": "python",
   "name": "python3"
  },
  "language_info": {
   "codemirror_mode": {
    "name": "ipython",
    "version": 3
   },
   "file_extension": ".py",
   "mimetype": "text/x-python",
   "name": "python",
   "nbconvert_exporter": "python",
   "pygments_lexer": "ipython3",
   "version": "3.8.1"
  },
  "latex_envs": {
   "LaTeX_envs_menu_present": true,
   "autoclose": false,
   "autocomplete": true,
   "bibliofile": "biblio.bib",
   "cite_by": "apalike",
   "current_citInitial": 1,
   "eqLabelWithNumbers": true,
   "eqNumInitial": 1,
   "hotkeys": {
    "equation": "Ctrl-E",
    "itemize": "Ctrl-I"
   },
   "labels_anchors": false,
   "latex_user_defs": false,
   "report_style_numbering": false,
   "user_envs_cfg": false
  },
  "toc": {
   "base_numbering": 1,
   "nav_menu": {},
   "number_sections": true,
   "sideBar": true,
   "skip_h1_title": false,
   "title_cell": "Table of Contents",
   "title_sidebar": "Contents",
   "toc_cell": false,
   "toc_position": {},
   "toc_section_display": true,
   "toc_window_display": false
  },
  "varInspector": {
   "cols": {
    "lenName": 16,
    "lenType": 16,
    "lenVar": 40
   },
   "kernels_config": {
    "python": {
     "delete_cmd_postfix": "",
     "delete_cmd_prefix": "del ",
     "library": "var_list.py",
     "varRefreshCmd": "print(var_dic_list())"
    },
    "r": {
     "delete_cmd_postfix": ") ",
     "delete_cmd_prefix": "rm(",
     "library": "var_list.r",
     "varRefreshCmd": "cat(var_dic_list()) "
    }
   },
   "types_to_exclude": [
    "module",
    "function",
    "builtin_function_or_method",
    "instance",
    "_Feature"
   ],
   "window_display": false
  }
 },
 "nbformat": 4,
 "nbformat_minor": 4
}
