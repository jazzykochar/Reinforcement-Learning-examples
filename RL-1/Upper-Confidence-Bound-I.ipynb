{
 "cells": [
  {
   "cell_type": "markdown",
   "metadata": {},
   "source": [
    "# Upper Confidence Bound"
   ]
  },
  {
   "cell_type": "markdown",
   "metadata": {},
   "source": [
    "Reference for the below explanation : - \n",
    "https://lilianweng.github.io/lil-log/2018/01/23/the-multi-armed-bandit-problem-and-its-solutions.html"
   ]
  },
  {
   "cell_type": "markdown",
   "metadata": {},
   "source": [
    "UCB works further on the concept of epilson-greedy and optimistic intial values method.\n",
    "\n",
    "Random exploration gives us an opportunity to try out options that we have not known much about. However, due to the randomness, it is possible we end up exploring a bad action which we have confirmed in the past (bad luck!). To avoid such inefficient exploration, one approach is to decrease the parameter ε in time and the other is to be optimistic about options with high uncertainty and thus to prefer actions for which we haven’t had a confident value estimation yet. Or in other words, we favor exploration of actions with a strong potential to have a optimal value."
   ]
  },
  {
   "cell_type": "markdown",
   "metadata": {},
   "source": [
    "he Upper Confidence Bounds (UCB) algorithm measures this potential by an upper confidence bound of the reward value, U^t(a), so that the true value is below with bound $$Q(a) \\leq \\hat{Q}_t(a) + \\hat{U}_t(a)$$ with high probability. The upper bound U^t(a) is a function of Nt(a); a larger number of trials Nt(a) should give us a smaller bound U^t(a)."
   ]
  },
  {
   "cell_type": "markdown",
   "metadata": {
    "ExecuteTime": {
     "end_time": "2020-05-26T00:13:00.511319Z",
     "start_time": "2020-05-26T00:13:00.507316Z"
    }
   },
   "source": [
    "In UCB algorithm, we always select the greediest action to maximize the upper confidence bound:\n",
    "\n",
    "$$^{UCB}_t = argmax_{a \\in \\mathcal{A}} \\hat{Q}_t(a) + \\hat{U}_t(a)$$\n",
    "Now, the question is how to estimate the upper confidence bound."
   ]
  },
  {
   "cell_type": "markdown",
   "metadata": {
    "ExecuteTime": {
     "end_time": "2020-05-26T00:10:26.078562Z",
     "start_time": "2020-05-26T00:10:26.073562Z"
    }
   },
   "source": [
    "$$\\mathbb{P} [ \\mathbb{E}[X] > \\overline{X}_t + u] \\leq e^{-2tu^2}$$"
   ]
  },
  {
   "cell_type": "markdown",
   "metadata": {},
   "source": [
    "## Hoeffding’s Inequality"
   ]
  },
  {
   "cell_type": "markdown",
   "metadata": {},
   "source": [
    "If we do not want to assign any prior knowledge on how the distribution looks like, we can get help from “Hoeffding’s Inequality” — a theorem applicable to any bounded distribution.\n",
    "\n",
    "Let $$X_1, \\dots, X_t$$ be i.i.d. (independent and identically distributed) random variables and they are all bounded by the interval [0, 1]. The sample mean is $$\\overline{X}_t = \\frac{1}{t}\\sum_{\\tau=1}^t X_\\tau$$. Then for u > 0, we have:\n",
    "\n",
    "$$\\mathbb{P} [ \\mathbb{E}[X] > \\overline{X}_t + u] \\leq e^{-2tu^2}$$\n",
    "Given one target action a, let us consider:\n",
    "\n",
    "rt(a) as the random variables,\n",
    "Q(a) as the true mean,\n",
    "Q^t(a) as the sample mean,\n",
    "And u as the upper confidence bound, u=Ut(a)\n",
    "Then we have,\n",
    "\n",
    "$$\\mathbb{P} [ Q(a) > \\hat{Q}_t(a) + U_t(a)] \\leq e^{-2t{U_t(a)}^2}$$\n",
    "We want to pick a bound so that with high chances the true mean is blow the sample mean + the upper confidence bound. Thus e−2tUt(a)2 should be a small probability. Let’s say we are ok with a tiny threshold p:\n",
    "\n",
    "e−2tUt(a)2=p Thus, $$e^{-2t U_t(a)^2} = p \\text{  Thus, } U_t(a) = \\sqrt{\\frac{-\\log p}{2 N_t(a)}}$$"
   ]
  },
  {
   "cell_type": "markdown",
   "metadata": {},
   "source": [
    "## UCB1"
   ]
  },
  {
   "cell_type": "markdown",
   "metadata": {},
   "source": [
    "One heuristic is to reduce the threshold p in time, as we want to make more confident bound estimation with more rewards observed. Set p=t−4 we get UCB1 algorithm:\n",
    "\n",
    "$$U_t(a) = \\sqrt{\\frac{2 \\log t}{N_t(a)}} \\text{  and  }\n",
    "a^{UCB1}_t = \\arg\\max_{a \\in \\mathcal{A}} Q(a) + \\sqrt{\\frac{2 \\log t}{N_t(a)}}$$"
   ]
  },
  {
   "cell_type": "markdown",
   "metadata": {},
   "source": [
    "## UCB1 code"
   ]
  },
  {
   "cell_type": "code",
   "execution_count": 5,
   "metadata": {
    "ExecuteTime": {
     "end_time": "2020-05-26T00:23:30.588097Z",
     "start_time": "2020-05-26T00:23:30.083059Z"
    }
   },
   "outputs": [],
   "source": [
    "import numpy as np\n",
    "import matplotlib.pyplot as plt"
   ]
  },
  {
   "cell_type": "code",
   "execution_count": 6,
   "metadata": {
    "ExecuteTime": {
     "end_time": "2020-05-26T00:23:37.958860Z",
     "start_time": "2020-05-26T00:23:37.955860Z"
    }
   },
   "outputs": [],
   "source": [
    "NUM_TRIALS = 100000\n",
    "EPS = 0.1\n",
    "BANDIT_PROBABILITIES = [0.2, 0.5, 0.75]"
   ]
  },
  {
   "cell_type": "code",
   "execution_count": 7,
   "metadata": {
    "ExecuteTime": {
     "end_time": "2020-05-26T00:24:22.404434Z",
     "start_time": "2020-05-26T00:24:22.399433Z"
    }
   },
   "outputs": [],
   "source": [
    "class Bandit:\n",
    "    def __init__(self, p):\n",
    "        # p: the win rate\n",
    "        self.p = p\n",
    "        self.p_estimate = 0.\n",
    "        self.N = 0. # num samples collected so far\n",
    "\n",
    "    def pull(self):\n",
    "        # draw a 1 with probability p\n",
    "        return np.random.random() < self.p\n",
    "\n",
    "    def update(self, x):\n",
    "        self.N += 1.\n",
    "        self.p_estimate = ((self.N - 1)*self.p_estimate + x) / self.N"
   ]
  },
  {
   "cell_type": "code",
   "execution_count": 9,
   "metadata": {
    "ExecuteTime": {
     "end_time": "2020-05-26T00:24:37.100855Z",
     "start_time": "2020-05-26T00:24:37.095893Z"
    }
   },
   "outputs": [],
   "source": [
    "def ucb(mean, n, nj):\n",
    "    return mean + np.sqrt(2*np.log(n) / nj)"
   ]
  },
  {
   "cell_type": "code",
   "execution_count": 11,
   "metadata": {
    "ExecuteTime": {
     "end_time": "2020-05-26T00:26:06.887827Z",
     "start_time": "2020-05-26T00:26:06.879862Z"
    }
   },
   "outputs": [],
   "source": [
    "def run_experiment():\n",
    "    bandits = [Bandit(p) for p in BANDIT_PROBABILITIES]\n",
    "    rewards = np.empty(NUM_TRIALS)\n",
    "    total_plays = 0\n",
    "\n",
    "    # initialization: play each bandit once\n",
    "    for j in range(len(bandits)):\n",
    "        x = bandits[j].pull()\n",
    "        total_plays += 1\n",
    "        bandits[j].update(x)\n",
    "\n",
    "    for i in range(NUM_TRIALS):\n",
    "        j = np.argmax([ucb(b.p_estimate, total_plays, b.N) for b in bandits])\n",
    "        x = bandits[j].pull()\n",
    "        total_plays += 1\n",
    "        bandits[j].update(x)\n",
    "\n",
    "        # for the plot\n",
    "        rewards[i] = x\n",
    "    cumulative_average = np.cumsum(rewards) / (np.arange(NUM_TRIALS) + 1)\n",
    "\n",
    "    # plot moving average ctr\n",
    "    plt.plot(cumulative_average)\n",
    "    plt.plot(np.ones(NUM_TRIALS)*np.max(BANDIT_PROBABILITIES))\n",
    "    plt.xscale('log')\n",
    "    plt.show()\n",
    "\n",
    "    for b in bandits:\n",
    "        print(b.p_estimate)\n",
    "\n",
    "    print(\"total reward earned:\", rewards.sum())\n",
    "    print(\"overall win rate:\", rewards.sum() / NUM_TRIALS)\n",
    "    print(\"num times selected each bandit:\", [b.N for b in bandits])\n",
    "\n",
    "    return cumulative_average"
   ]
  },
  {
   "cell_type": "code",
   "execution_count": 12,
   "metadata": {
    "ExecuteTime": {
     "end_time": "2020-05-26T00:26:11.711830Z",
     "start_time": "2020-05-26T00:26:09.085826Z"
    }
   },
   "outputs": [
    {
     "data": {
      "image/png": "[encoded data removed]",
      "text/plain": [
       "<Figure size 432x288 with 1 Axes>"
      ]
     },
     "metadata": {
      "needs_background": "light"
     },
     "output_type": "display_data"
    },
    {
     "name": "stdout",
     "output_type": "stream",
     "text": [
      "0.24418604651162795\n",
      "0.5206185567010313\n",
      "0.749771423404234\n",
      "total reward earned: 74846.0\n",
      "overall win rate: 0.74846\n",
      "num times selected each bandit: [86.0, 388.0, 99529.0]\n"
     ]
    },
    {
     "data": {
      "text/plain": [
       "array([0.        , 0.5       , 0.33333333, ..., 0.74845497, 0.74845748,\n",
       "       0.74846   ])"
      ]
     },
     "execution_count": 12,
     "metadata": {},
     "output_type": "execute_result"
    }
   ],
   "source": [
    "run_experiment()"
   ]
  }
 ],
 "metadata": {
  "hide_input": false,
  "kernelspec": {
   "display_name": "Python 3",
   "language": "python",
   "name": "python3"
  },
  "language_info": {
   "codemirror_mode": {
    "name": "ipython",
    "version": 3
   },
   "file_extension": ".py",
   "mimetype": "text/x-python",
   "name": "python",
   "nbconvert_exporter": "python",
   "pygments_lexer": "ipython3",
   "version": "3.8.1"
  },
  "latex_envs": {
   "LaTeX_envs_menu_present": true,
   "autoclose": false,
   "autocomplete": true,
   "bibliofile": "biblio.bib",
   "cite_by": "apalike",
   "current_citInitial": 1,
   "eqLabelWithNumbers": true,
   "eqNumInitial": 1,
   "hotkeys": {
    "equation": "Ctrl-E",
    "itemize": "Ctrl-I"
   },
   "labels_anchors": false,
   "latex_user_defs": false,
   "report_style_numbering": false,
   "user_envs_cfg": false
  },
  "toc": {
   "base_numbering": 1,
   "nav_menu": {},
   "number_sections": true,
   "sideBar": true,
   "skip_h1_title": false,
   "title_cell": "Table of Contents",
   "title_sidebar": "Contents",
   "toc_cell": false,
   "toc_position": {},
   "toc_section_display": true,
   "toc_window_display": false
  },
  "varInspector": {
   "cols": {
    "lenName": 16,
    "lenType": 16,
    "lenVar": 40
   },
   "kernels_config": {
    "python": {
     "delete_cmd_postfix": "",
     "delete_cmd_prefix": "del ",
     "library": "var_list.py",
     "varRefreshCmd": "print(var_dic_list())"
    },
    "r": {
     "delete_cmd_postfix": ") ",
     "delete_cmd_prefix": "rm(",
     "library": "var_list.r",
     "varRefreshCmd": "cat(var_dic_list()) "
    }
   },
   "types_to_exclude": [
    "module",
    "function",
    "builtin_function_or_method",
    "instance",
    "_Feature"
   ],
   "window_display": false
  }
 },
 "nbformat": 4,
 "nbformat_minor": 4
}
